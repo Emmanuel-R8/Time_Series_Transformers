{
 "cells": [
  {
   "cell_type": "markdown",
   "metadata": {},
   "source": [
    "We define some constants"
   ]
  },
  {
   "cell_type": "code",
   "execution_count": 2,
   "metadata": {},
   "outputs": [],
   "source": [
    "NEPTUNE_USER_NAME = 'emmanuel-r8'\n",
    "NEPTUNE_PROJECT_NAME = 'TS_TXL'"
   ]
  },
  {
   "cell_type": "markdown",
   "metadata": {},
   "source": [
    "If we run on Google Colab, we don't have exactly the same parameteres"
   ]
  },
  {
   "cell_type": "code",
   "execution_count": null,
   "metadata": {},
   "outputs": [],
   "source": [
    "USE_COLAB = False"
   ]
  },
  {
   "cell_type": "code",
   "execution_count": 1,
   "metadata": {},
   "outputs": [],
   "source": [
    "\n",
    "# %%\n",
    "import os, sys\n",
    "import numpy as np\n",
    "import pandas as pd\n",
    "\n",
    "\n"
   ]
  },
  {
   "cell_type": "code",
   "execution_count": null,
   "metadata": {},
   "outputs": [],
   "source": [
    "if USE_COLAB:\n",
    "    assert os.environ['COLAB_TPU_ADDR'], 'Make sure to select TPU from Edit > Notebook settings > Hardware accelerator'\n",
    "\n",
    "    os.chdir(\"/content/drive/My Drive/Colab Notebooks/Time_Series_Transformers\")\n",
    "    os.getcwd()\n",
    "\n",
    "    # FROM https://colab.research.google.com/github/pytorch/xla/blob/master/contrib/colab/getting-started.ipynb#scrollTo=sPJVqAKyml5W\n",
    "    VERSION = \"20200325\"  #@param [\"1.5\" , \"20200325\", \"nightly\"]\n",
    "    os.system(\"curl https://raw.githubusercontent.com/pytorch/xla/master/contrib/scripts/env-setup.py -o pytorch-xla-env-setup.py\")\n",
    "    os.system(f\"python pytorch-xla-env-setup.py --version {VERSION}\")\n",
    "    os.system(\"pip install pytorch-lightning test-tube neptune-client torch-xla\")\n",
    "\n"
   ]
  },
  {
   "cell_type": "code",
   "execution_count": null,
   "metadata": {},
   "outputs": [],
   "source": [
    "if USE_COLAB:\n",
    "    import torch_xla\n",
    "    import torch_xla.core.xla_model as xm\n",
    "    import torch_xla.distributed.xla_multiprocessing as xmp\n",
    "else:\n",
    "    import torch\n",
    "\n",
    "import pytorch_lightning as pl\n",
    "from pytorch_lightning.loggers import NeptuneLogger, TestTubeLogger\n",
    "\n",
    "from TXL_model import TransformerXL_Trainer\n",
    "from utils.utils import GlobalState\n"
   ]
  },
  {
   "cell_type": "code",
   "execution_count": null,
   "metadata": {},
   "outputs": [],
   "source": [
    "# %% Load input\n",
    "data_set_name = \"etf\"\n",
    "data_set = pd.read_pickle(f\"data/{data_set_name}/allData.pickle\")\n",
    "\n",
    "# Fill NA's with 0.0 and convert to tensor (although probably not necessary)\n",
    "data_set = data_set.fillna(0.0).values[:, 1:].astype(np.float64)\n",
    "data_set = torch.tensor(data_set)\n"
   ]
  },
  {
   "cell_type": "code",
   "execution_count": null,
   "metadata": {},
   "outputs": [],
   "source": [
    "\n",
    "# %%\n",
    "global_state = GlobalState(data=data_set, debug=False)\n",
    "global_state.num_workers = 4\n",
    "global_state.dataset_size = 1_500\n",
    "global_state.n_layer = 3\n",
    "global_state.n_head = 4\n",
    "global_state.d_head = 8\n",
    "global_state.n_model = 20\n",
    "global_state.d_pos_enc = 20\n",
    "global_state.d_FF_inner = 50\n",
    "global_state.n_val = 8\n",
    "global_state.n_test = 16\n",
    "global_state.n_batch = 32\n",
    "global_state.dropout = 0.2\n",
    "global_state.dropout_attn = 0.2\n",
    "global_state.n_predict = 8\n",
    "global_state.n_mems = 16\n",
    "global_state.max_epochs = 200\n",
    "\n"
   ]
  },
  {
   "cell_type": "code",
   "execution_count": null,
   "metadata": {},
   "outputs": [],
   "source": [
    "# %%\n",
    "# Create a new transformer_model to be trained\n",
    "transformerxl_model = TransformerXL_Trainer(global_state)\n",
    "\n",
    "# %%\n",
    "# Logging backend\n",
    "# TB_logger = TestTubeLogger(\n",
    "#     save_dir=os.path.join(os.getcwd(), global_state.work_dir, data_set_name),\n",
    "#     name='transformerxl_trainer_logs'\n",
    "# )\n",
    "neptune_logger = NeptuneLogger(\n",
    "    offline_mode=True,\n",
    "    project_name=f'{NEPTUNE_USER_NAME}/{NEPTUNE_PROJECT_NAME}',\n",
    "    experiment_name='small_1500',\n",
    "    params={'max_epochs': 200},\n",
    "    tags=['pytorch-lightning', 'time_series', 'TXL'])\n",
    "\n",
    "# %%\n",
    "# Actual Trainer() method\n",
    "# Avoids preliminary runs of validation before training\n",
    "if USE_COLAB:\n",
    "    transformerxl_trainer = pl.Trainer(\n",
    "        max_epochs=global_state.max_epochs,\n",
    "        logger=neptune_logger, \n",
    "        num_sanity_val_steps=0, \n",
    "        distributed_backend='ddp', \n",
    "        tpu_cores=8)\n",
    "else:\n",
    "    transformerxl_trainer = pl.Trainer(\n",
    "        max_epochs=global_state.max_epochs,\n",
    "        logger=neptune_logger,\n",
    "        num_sanity_val_steps=0)\n",
    "\n"
   ]
  },
  {
   "cell_type": "code",
   "execution_count": null,
   "metadata": {},
   "outputs": [],
   "source": [
    "# %%\n",
    "pl.seed_everything(global_state.seed)\n",
    "transformerxl_trainer.fit(transformerxl_model)\n"
   ]
  }
 ],
 "metadata": {
  "language_info": {
   "codemirror_mode": {
    "name": "ipython",
    "version": 3
   },
   "file_extension": ".py",
   "mimetype": "text/x-python",
   "name": "python",
   "nbconvert_exporter": "python",
   "pygments_lexer": "ipython3",
   "version": "3.7.7-final"
  },
  "orig_nbformat": 2,
  "kernelspec": {
   "name": "python37764bittimeseriescompressivetransformerconda87e476813cd24c1eb87151c301218bb7",
   "display_name": "Python 3.7.7 64-bit ('time-series-compressive-transformer': conda)"
  }
 },
 "nbformat": 4,
 "nbformat_minor": 2
}